{
  "nbformat": 4,
  "nbformat_minor": 0,
  "metadata": {
    "colab": {
      "name": "Untitled1.ipynb",
      "provenance": [],
      "authorship_tag": "ABX9TyPhsPFMW4CHbjdo2U0gBMiV",
      "include_colab_link": true
    },
    "kernelspec": {
      "name": "python3",
      "display_name": "Python 3"
    }
  },
  "cells": [
    {
      "cell_type": "markdown",
      "metadata": {
        "id": "view-in-github",
        "colab_type": "text"
      },
      "source": [
        "<a href=\"https://colab.research.google.com/github/Glaydyesther/hacking-civico/blob/master/tareas/02-python-101.ipynb\" target=\"_parent\"><img src=\"https://colab.research.google.com/assets/colab-badge.svg\" alt=\"Open In Colab\"/></a>"
      ]
    },
    {
      "cell_type": "code",
      "metadata": {
        "id": "kWF_P2NrmwFk",
        "colab_type": "code",
        "colab": {}
      },
      "source": [
        "def densidad_poblacional(poblacion,area_ciudad):\n",
        "  print(poblacion/area_ciudad)"
      ],
      "execution_count": 1,
      "outputs": []
    },
    {
      "cell_type": "code",
      "metadata": {
        "id": "5-rosSMWnkpT",
        "colab_type": "code",
        "colab": {
          "base_uri": "https://localhost:8080/",
          "height": 68
        },
        "outputId": "0586e0bb-681b-4dd9-8f22-0d0d32896062"
      },
      "source": [
        "densidad_poblacional(830732,883.4)\n",
        "densidad_poblacional(2097175,39524)\n",
        "densidad_poblacional(119530753,1964375)"
      ],
      "execution_count": 3,
      "outputs": [
        {
          "output_type": "stream",
          "text": [
            "940.3803486529318\n",
            "53.06079850217589\n",
            "60.84925383391664\n"
          ],
          "name": "stdout"
        }
      ]
    },
    {
      "cell_type": "code",
      "metadata": {
        "id": "o8NTkPX4yHrB",
        "colab_type": "code",
        "colab": {}
      },
      "source": [
        "def gasto_percapita(gasto_publico, poblacion):\n",
        "  print(gasto_publico/poblacion)"
      ],
      "execution_count": 4,
      "outputs": []
    },
    {
      "cell_type": "code",
      "metadata": {
        "id": "hJJEYg6tyhHV",
        "colab_type": "code",
        "colab": {
          "base_uri": "https://localhost:8080/",
          "height": 51
        },
        "outputId": "d78f1962-6705-4fea-f3f5-add95b999498"
      },
      "source": [
        "gasto_percapita(124266865116, 119530753)\n",
        "gasto_percapita(128826414373,119530753 )"
      ],
      "execution_count": 5,
      "outputs": [
        {
          "output_type": "stream",
          "text": [
            "1039.6225406193166\n",
            "1077.7679479104427\n"
          ],
          "name": "stdout"
        }
      ]
    },
    {
      "cell_type": "code",
      "metadata": {
        "id": "hNJZjQ2m0RKn",
        "colab_type": "code",
        "colab": {}
      },
      "source": [
        ""
      ],
      "execution_count": null,
      "outputs": []
    }
  ]
}